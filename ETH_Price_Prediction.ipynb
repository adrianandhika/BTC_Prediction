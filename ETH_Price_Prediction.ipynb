{
 "cells": [
  {
   "cell_type": "markdown",
   "id": "8d9021d7",
   "metadata": {},
   "source": [
    "## Import Relevant Libraries"
   ]
  },
  {
   "cell_type": "code",
   "execution_count": 1,
   "id": "da19301d",
   "metadata": {},
   "outputs": [],
   "source": [
    "import pandas as pd\n",
    "import pandas_datareader as web\n",
    "import datetime as dt\n",
    "\n",
    "from sklearn.preprocessing import MinMaxScaler\n",
    "from tensorflow.keras.layers import Dense, Dropout, LSTM\n",
    "from tensorflow.keras.models import Sequential"
   ]
  },
  {
   "cell_type": "markdown",
   "id": "3f361593",
   "metadata": {},
   "source": [
    "## Define Currency"
   ]
  },
  {
   "cell_type": "code",
   "execution_count": 2,
   "id": "ad59166b",
   "metadata": {},
   "outputs": [],
   "source": [
    "crypto_currency = 'ETH'\n",
    "againts_currency = 'USD'"
   ]
  },
  {
   "cell_type": "markdown",
   "id": "60e68315",
   "metadata": {},
   "source": [
    "## Define Time"
   ]
  },
  {
   "cell_type": "code",
   "execution_count": 3,
   "id": "0d11a5e5",
   "metadata": {},
   "outputs": [],
   "source": [
    "start = dt.datetime(2015,1,1)\n",
    "end = dt.datetime.now()"
   ]
  },
  {
   "cell_type": "markdown",
   "id": "f115a74f",
   "metadata": {},
   "source": [
    "## Get the actual data"
   ]
  },
  {
   "cell_type": "code",
   "execution_count": 4,
   "id": "bc578b18",
   "metadata": {},
   "outputs": [],
   "source": [
    "data = web.DataReader(f'{crypto_currency}-{againts_currency}', 'yahoo', start, end)"
   ]
  },
  {
   "cell_type": "markdown",
   "id": "662a5461",
   "metadata": {},
   "source": [
    "## Show the Data"
   ]
  },
  {
   "cell_type": "code",
   "execution_count": 5,
   "id": "bb81519c",
   "metadata": {},
   "outputs": [
    {
     "data": {
      "text/html": [
       "<div>\n",
       "<style scoped>\n",
       "    .dataframe tbody tr th:only-of-type {\n",
       "        vertical-align: middle;\n",
       "    }\n",
       "\n",
       "    .dataframe tbody tr th {\n",
       "        vertical-align: top;\n",
       "    }\n",
       "\n",
       "    .dataframe thead th {\n",
       "        text-align: right;\n",
       "    }\n",
       "</style>\n",
       "<table border=\"1\" class=\"dataframe\">\n",
       "  <thead>\n",
       "    <tr style=\"text-align: right;\">\n",
       "      <th></th>\n",
       "      <th>High</th>\n",
       "      <th>Low</th>\n",
       "      <th>Open</th>\n",
       "      <th>Close</th>\n",
       "      <th>Volume</th>\n",
       "      <th>Adj Close</th>\n",
       "    </tr>\n",
       "    <tr>\n",
       "      <th>Date</th>\n",
       "      <th></th>\n",
       "      <th></th>\n",
       "      <th></th>\n",
       "      <th></th>\n",
       "      <th></th>\n",
       "      <th></th>\n",
       "    </tr>\n",
       "  </thead>\n",
       "  <tbody>\n",
       "    <tr>\n",
       "      <th>2017-11-09</th>\n",
       "      <td>329.451996</td>\n",
       "      <td>307.056000</td>\n",
       "      <td>308.644989</td>\n",
       "      <td>320.884003</td>\n",
       "      <td>893249984</td>\n",
       "      <td>320.884003</td>\n",
       "    </tr>\n",
       "    <tr>\n",
       "      <th>2017-11-10</th>\n",
       "      <td>324.717987</td>\n",
       "      <td>294.541992</td>\n",
       "      <td>320.670990</td>\n",
       "      <td>299.252991</td>\n",
       "      <td>885985984</td>\n",
       "      <td>299.252991</td>\n",
       "    </tr>\n",
       "    <tr>\n",
       "      <th>2017-11-11</th>\n",
       "      <td>319.453003</td>\n",
       "      <td>298.191986</td>\n",
       "      <td>298.585999</td>\n",
       "      <td>314.681000</td>\n",
       "      <td>842300992</td>\n",
       "      <td>314.681000</td>\n",
       "    </tr>\n",
       "    <tr>\n",
       "      <th>2017-11-12</th>\n",
       "      <td>319.153015</td>\n",
       "      <td>298.513000</td>\n",
       "      <td>314.690002</td>\n",
       "      <td>307.907990</td>\n",
       "      <td>1613479936</td>\n",
       "      <td>307.907990</td>\n",
       "    </tr>\n",
       "    <tr>\n",
       "      <th>2017-11-13</th>\n",
       "      <td>328.415009</td>\n",
       "      <td>307.024994</td>\n",
       "      <td>307.024994</td>\n",
       "      <td>316.716003</td>\n",
       "      <td>1041889984</td>\n",
       "      <td>316.716003</td>\n",
       "    </tr>\n",
       "  </tbody>\n",
       "</table>\n",
       "</div>"
      ],
      "text/plain": [
       "                  High         Low        Open       Close      Volume  \\\n",
       "Date                                                                     \n",
       "2017-11-09  329.451996  307.056000  308.644989  320.884003   893249984   \n",
       "2017-11-10  324.717987  294.541992  320.670990  299.252991   885985984   \n",
       "2017-11-11  319.453003  298.191986  298.585999  314.681000   842300992   \n",
       "2017-11-12  319.153015  298.513000  314.690002  307.907990  1613479936   \n",
       "2017-11-13  328.415009  307.024994  307.024994  316.716003  1041889984   \n",
       "\n",
       "             Adj Close  \n",
       "Date                    \n",
       "2017-11-09  320.884003  \n",
       "2017-11-10  299.252991  \n",
       "2017-11-11  314.681000  \n",
       "2017-11-12  307.907990  \n",
       "2017-11-13  316.716003  "
      ]
     },
     "execution_count": 5,
     "metadata": {},
     "output_type": "execute_result"
    }
   ],
   "source": [
    "data.head()"
   ]
  },
  {
   "cell_type": "markdown",
   "id": "13b9e1ab",
   "metadata": {},
   "source": [
    "## Prepare Data"
   ]
  },
  {
   "cell_type": "markdown",
   "id": "d4a07045",
   "metadata": {},
   "source": [
    "## Use scaler to squeeze the value between 0 and 1"
   ]
  },
  {
   "cell_type": "code",
   "execution_count": 6,
   "id": "ccc4469e",
   "metadata": {},
   "outputs": [],
   "source": [
    "scaler = MinMaxScaler(feature_range = (0,1))\n",
    "scaled_data = scaler.fit_transform(data['Close'].values.reshape(-1,1))"
   ]
  },
  {
   "cell_type": "markdown",
   "id": "beec4daf",
   "metadata": {},
   "source": [
    "## Determine the predicted days"
   ]
  },
  {
   "cell_type": "code",
   "execution_count": 7,
   "id": "9fc19a4f",
   "metadata": {},
   "outputs": [],
   "source": [
    "prediction_days = 60\n",
    "future_day = 0"
   ]
  },
  {
   "cell_type": "markdown",
   "id": "85a77a43",
   "metadata": {},
   "source": [
    "# Prepare the training data"
   ]
  },
  {
   "cell_type": "code",
   "execution_count": 8,
   "id": "4a5ddfee",
   "metadata": {},
   "outputs": [],
   "source": [
    "x_train, y_train = [], []"
   ]
  },
  {
   "cell_type": "markdown",
   "id": "4f4bda0c",
   "metadata": {},
   "source": [
    "## Fill it with actual values"
   ]
  },
  {
   "cell_type": "code",
   "execution_count": 9,
   "id": "8659f5e7",
   "metadata": {},
   "outputs": [],
   "source": [
    "import numpy as np\n",
    "\n",
    "for x in range(prediction_days, len(scaled_data)):\n",
    "    x_train.append(scaled_data[x-prediction_days:x, 0])\n",
    "    y_train.append(scaled_data[x, 0])\n",
    "    \n",
    "x_train, y_train = np.array(x_train), np.array(y_train)\n",
    "x_train = np.reshape(x_train, (x_train.shape[0], x_train.shape[1], 1))"
   ]
  },
  {
   "cell_type": "markdown",
   "id": "5fe3b460",
   "metadata": {},
   "source": [
    "## Create the neural network"
   ]
  },
  {
   "cell_type": "code",
   "execution_count": 10,
   "id": "01a5882d",
   "metadata": {},
   "outputs": [
    {
     "name": "stdout",
     "output_type": "stream",
     "text": [
      "Epoch 1/25\n",
      "52/52 [==============================] - 6s 42ms/step - loss: 0.0125\n",
      "Epoch 2/25\n",
      "52/52 [==============================] - 2s 41ms/step - loss: 0.0042\n",
      "Epoch 3/25\n",
      "52/52 [==============================] - 2s 42ms/step - loss: 0.0035\n",
      "Epoch 4/25\n",
      "52/52 [==============================] - 2s 42ms/step - loss: 0.0031\n",
      "Epoch 5/25\n",
      "52/52 [==============================] - 2s 42ms/step - loss: 0.0028\n",
      "Epoch 6/25\n",
      "52/52 [==============================] - 2s 41ms/step - loss: 0.0028\n",
      "Epoch 7/25\n",
      "52/52 [==============================] - 2s 42ms/step - loss: 0.0037\n",
      "Epoch 8/25\n",
      "52/52 [==============================] - 2s 45ms/step - loss: 0.0026\n",
      "Epoch 9/25\n",
      "52/52 [==============================] - 2s 46ms/step - loss: 0.0025\n",
      "Epoch 10/25\n",
      "52/52 [==============================] - 2s 45ms/step - loss: 0.0022\n",
      "Epoch 11/25\n",
      "52/52 [==============================] - 3s 48ms/step - loss: 0.0021\n",
      "Epoch 12/25\n",
      "52/52 [==============================] - 3s 48ms/step - loss: 0.0023\n",
      "Epoch 13/25\n",
      "52/52 [==============================] - 3s 50ms/step - loss: 0.0020\n",
      "Epoch 14/25\n",
      "52/52 [==============================] - 3s 52ms/step - loss: 0.0025\n",
      "Epoch 15/25\n",
      "52/52 [==============================] - 3s 57ms/step - loss: 0.0020\n",
      "Epoch 16/25\n",
      "52/52 [==============================] - 2s 47ms/step - loss: 0.0017\n",
      "Epoch 17/25\n",
      "52/52 [==============================] - 2s 46ms/step - loss: 0.0018\n",
      "Epoch 18/25\n",
      "52/52 [==============================] - 2s 45ms/step - loss: 0.0016\n",
      "Epoch 19/25\n",
      "52/52 [==============================] - 2s 46ms/step - loss: 0.0017\n",
      "Epoch 20/25\n",
      "52/52 [==============================] - 2s 46ms/step - loss: 0.0021\n",
      "Epoch 21/25\n",
      "52/52 [==============================] - 3s 48ms/step - loss: 0.0017\n",
      "Epoch 22/25\n",
      "52/52 [==============================] - 2s 46ms/step - loss: 0.0018\n",
      "Epoch 23/25\n",
      "52/52 [==============================] - 2s 46ms/step - loss: 0.0017\n",
      "Epoch 24/25\n",
      "52/52 [==============================] - 2s 47ms/step - loss: 0.0016\n",
      "Epoch 25/25\n",
      "52/52 [==============================] - 2s 46ms/step - loss: 0.0016\n"
     ]
    },
    {
     "data": {
      "text/plain": [
       "<keras.callbacks.History at 0x1bb8a91b460>"
      ]
     },
     "execution_count": 10,
     "metadata": {},
     "output_type": "execute_result"
    }
   ],
   "source": [
    "model = Sequential()\n",
    "\n",
    "model.add(LSTM(units=50, return_sequences = True, input_shape=(x_train.shape[1], 1)))\n",
    "model.add(Dropout(0.2))\n",
    "model.add(LSTM(units = 50, return_sequences = True))\n",
    "model.add(Dropout(0.2))\n",
    "model.add(LSTM(units = 50))\n",
    "model.add(Dropout(0.2))\n",
    "model.add(Dense(units = 1))\n",
    "\n",
    "model.compile(optimizer = 'adam', loss = 'mean_squared_error')\n",
    "model.fit(x_train, y_train, epochs = 25, batch_size = 32)"
   ]
  },
  {
   "cell_type": "markdown",
   "id": "7db31f64",
   "metadata": {},
   "source": [
    "## Testing the Model"
   ]
  },
  {
   "cell_type": "code",
   "execution_count": 11,
   "id": "43c12d56",
   "metadata": {},
   "outputs": [],
   "source": [
    "test_start = dt.datetime(2020,1,1)\n",
    "test_end = dt.datetime.now()\n",
    "\n",
    "test_data = web.DataReader(f'{crypto_currency}-{againts_currency}', 'yahoo', test_start, test_end)\n",
    "actual_prices = test_data['Close'].values\n",
    "\n",
    "total_dataset = pd.concat((data['Close'], test_data['Close']), axis=0)\n",
    "\n",
    "model_inputs = total_dataset[len(total_dataset) - len(test_data) - prediction_days:].values\n",
    "model_inputs = model_inputs.reshape(-1,1)\n",
    "model_inputs = scaler.fit_transform(model_inputs)\n",
    "\n",
    "x_test = []\n",
    "\n",
    "for x in range(prediction_days, len(model_inputs)):\n",
    "    x_test.append(model_inputs[x-prediction_days:x, 0])\n",
    "    \n",
    "x_test = np.array(x_test)\n",
    "x_test = np.reshape(x_test, (x_test.shape[0], x_test.shape[1],1))"
   ]
  },
  {
   "cell_type": "code",
   "execution_count": 12,
   "id": "a97a7d39",
   "metadata": {},
   "outputs": [],
   "source": [
    "prediction_prices = model.predict(x_test)\n",
    "prediction_prices = scaler.inverse_transform(prediction_prices)"
   ]
  },
  {
   "cell_type": "code",
   "execution_count": 13,
   "id": "b7a8757f",
   "metadata": {},
   "outputs": [
    {
     "data": {
      "image/png": "[encoded data removed]",
      "text/plain": [
       "<Figure size 432x288 with 1 Axes>"
      ]
     },
     "metadata": {
      "needs_background": "light"
     },
     "output_type": "display_data"
    }
   ],
   "source": [
    "import matplotlib.pyplot as plt\n",
    "\n",
    "plt.plot(actual_prices, color='black', label='Actual Prices')\n",
    "plt.plot(prediction_prices, color='green', label='Predicted Prices')\n",
    "plt.title(f'{crypto_currency} price prediction')\n",
    "plt.xlabel('Days')\n",
    "plt.ylabel('Price')\n",
    "plt.legend(loc='upper left')\n",
    "plt.show()"
   ]
  }
 ],
 "metadata": {
  "kernelspec": {
   "display_name": "Python 3 (ipykernel)",
   "language": "python",
   "name": "python3"
  },
  "language_info": {
   "codemirror_mode": {
    "name": "ipython",
    "version": 3
   },
   "file_extension": ".py",
   "mimetype": "text/x-python",
   "name": "python",
   "nbconvert_exporter": "python",
   "pygments_lexer": "ipython3",
   "version": "3.8.8"
  }
 },
 "nbformat": 4,
 "nbformat_minor": 5
}
