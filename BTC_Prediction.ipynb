{
 "cells": [
  {
   "cell_type": "markdown",
   "id": "bba4c384",
   "metadata": {},
   "source": [
    "## Import Relevant Libraries"
   ]
  },
  {
   "cell_type": "code",
   "execution_count": 1,
   "id": "942d42f2",
   "metadata": {},
   "outputs": [],
   "source": [
    "import pandas as pd\n",
    "import pandas_datareader as web\n",
    "import datetime as dt\n",
    "\n",
    "from sklearn.preprocessing import MinMaxScaler\n",
    "from tensorflow.keras.layers import Dense, Dropout, LSTM\n",
    "from tensorflow.keras.models import Sequential"
   ]
  },
  {
   "cell_type": "markdown",
   "id": "5ab65101",
   "metadata": {},
   "source": [
    "## Define Currency"
   ]
  },
  {
   "cell_type": "code",
   "execution_count": 2,
   "id": "7e563d70",
   "metadata": {},
   "outputs": [],
   "source": [
    "crypto_currency = 'BTC'\n",
    "againts_currency = 'USD'"
   ]
  },
  {
   "cell_type": "markdown",
   "id": "37a3d0b6",
   "metadata": {},
   "source": [
    "## Define Time"
   ]
  },
  {
   "cell_type": "code",
   "execution_count": 3,
   "id": "cf0c50b2",
   "metadata": {},
   "outputs": [],
   "source": [
    "start = dt.datetime(2016,1,1)\n",
    "end = dt.datetime.now()"
   ]
  },
  {
   "cell_type": "markdown",
   "id": "a1461e24",
   "metadata": {},
   "source": [
    "## Get the actual data"
   ]
  },
  {
   "cell_type": "code",
   "execution_count": 4,
   "id": "89896b8d",
   "metadata": {},
   "outputs": [],
   "source": [
    "data = web.DataReader(f'{crypto_currency}-{againts_currency}', 'yahoo', start, end)"
   ]
  },
  {
   "cell_type": "markdown",
   "id": "ee134feb",
   "metadata": {},
   "source": [
    "## Show the Data"
   ]
  },
  {
   "cell_type": "code",
   "execution_count": 5,
   "id": "7e28d3c2",
   "metadata": {},
   "outputs": [
    {
     "data": {
      "text/html": [
       "<div>\n",
       "<style scoped>\n",
       "    .dataframe tbody tr th:only-of-type {\n",
       "        vertical-align: middle;\n",
       "    }\n",
       "\n",
       "    .dataframe tbody tr th {\n",
       "        vertical-align: top;\n",
       "    }\n",
       "\n",
       "    .dataframe thead th {\n",
       "        text-align: right;\n",
       "    }\n",
       "</style>\n",
       "<table border=\"1\" class=\"dataframe\">\n",
       "  <thead>\n",
       "    <tr style=\"text-align: right;\">\n",
       "      <th></th>\n",
       "      <th>High</th>\n",
       "      <th>Low</th>\n",
       "      <th>Open</th>\n",
       "      <th>Close</th>\n",
       "      <th>Volume</th>\n",
       "      <th>Adj Close</th>\n",
       "    </tr>\n",
       "    <tr>\n",
       "      <th>Date</th>\n",
       "      <th></th>\n",
       "      <th></th>\n",
       "      <th></th>\n",
       "      <th></th>\n",
       "      <th></th>\n",
       "      <th></th>\n",
       "    </tr>\n",
       "  </thead>\n",
       "  <tbody>\n",
       "    <tr>\n",
       "      <th>2015-12-31</th>\n",
       "      <td>432.920990</td>\n",
       "      <td>418.734985</td>\n",
       "      <td>425.875000</td>\n",
       "      <td>430.566986</td>\n",
       "      <td>45996600</td>\n",
       "      <td>430.566986</td>\n",
       "    </tr>\n",
       "    <tr>\n",
       "      <th>2016-01-01</th>\n",
       "      <td>436.246002</td>\n",
       "      <td>427.515015</td>\n",
       "      <td>430.721008</td>\n",
       "      <td>434.334015</td>\n",
       "      <td>36278900</td>\n",
       "      <td>434.334015</td>\n",
       "    </tr>\n",
       "    <tr>\n",
       "      <th>2016-01-02</th>\n",
       "      <td>436.062012</td>\n",
       "      <td>431.869995</td>\n",
       "      <td>434.622009</td>\n",
       "      <td>433.437988</td>\n",
       "      <td>30096600</td>\n",
       "      <td>433.437988</td>\n",
       "    </tr>\n",
       "    <tr>\n",
       "      <th>2016-01-03</th>\n",
       "      <td>433.743011</td>\n",
       "      <td>424.705994</td>\n",
       "      <td>433.578003</td>\n",
       "      <td>430.010986</td>\n",
       "      <td>39633800</td>\n",
       "      <td>430.010986</td>\n",
       "    </tr>\n",
       "    <tr>\n",
       "      <th>2016-01-04</th>\n",
       "      <td>434.516998</td>\n",
       "      <td>429.084015</td>\n",
       "      <td>430.061005</td>\n",
       "      <td>433.091003</td>\n",
       "      <td>38477500</td>\n",
       "      <td>433.091003</td>\n",
       "    </tr>\n",
       "  </tbody>\n",
       "</table>\n",
       "</div>"
      ],
      "text/plain": [
       "                  High         Low        Open       Close    Volume  \\\n",
       "Date                                                                   \n",
       "2015-12-31  432.920990  418.734985  425.875000  430.566986  45996600   \n",
       "2016-01-01  436.246002  427.515015  430.721008  434.334015  36278900   \n",
       "2016-01-02  436.062012  431.869995  434.622009  433.437988  30096600   \n",
       "2016-01-03  433.743011  424.705994  433.578003  430.010986  39633800   \n",
       "2016-01-04  434.516998  429.084015  430.061005  433.091003  38477500   \n",
       "\n",
       "             Adj Close  \n",
       "Date                    \n",
       "2015-12-31  430.566986  \n",
       "2016-01-01  434.334015  \n",
       "2016-01-02  433.437988  \n",
       "2016-01-03  430.010986  \n",
       "2016-01-04  433.091003  "
      ]
     },
     "execution_count": 5,
     "metadata": {},
     "output_type": "execute_result"
    }
   ],
   "source": [
    "data.head()"
   ]
  },
  {
   "cell_type": "markdown",
   "id": "5540b065",
   "metadata": {},
   "source": [
    "## Prepare Data"
   ]
  },
  {
   "cell_type": "markdown",
   "id": "e8a29cae",
   "metadata": {},
   "source": [
    "## Use scaler to squeeze the value between 0 and 1"
   ]
  },
  {
   "cell_type": "code",
   "execution_count": 6,
   "id": "17a61ee9",
   "metadata": {},
   "outputs": [],
   "source": [
    "scaler = MinMaxScaler(feature_range = (0,1))\n",
    "scaled_data = scaler.fit_transform(data['Close'].values.reshape(-1,1))"
   ]
  },
  {
   "cell_type": "markdown",
   "id": "3aa9f69c",
   "metadata": {},
   "source": [
    "## Determine the predicted days"
   ]
  },
  {
   "cell_type": "code",
   "execution_count": 7,
   "id": "cd6a6413",
   "metadata": {},
   "outputs": [],
   "source": [
    "prediction_days = 60\n",
    "future_day = 30"
   ]
  },
  {
   "cell_type": "markdown",
   "id": "a1f49db1",
   "metadata": {},
   "source": [
    "# Prepare the training data"
   ]
  },
  {
   "cell_type": "code",
   "execution_count": 8,
   "id": "c694e729",
   "metadata": {},
   "outputs": [],
   "source": [
    "x_train, y_train = [], []"
   ]
  },
  {
   "cell_type": "markdown",
   "id": "cdc37788",
   "metadata": {},
   "source": [
    "## Fill it with actual values"
   ]
  },
  {
   "cell_type": "code",
   "execution_count": 9,
   "id": "1b55b75a",
   "metadata": {},
   "outputs": [],
   "source": [
    "import numpy as np\n",
    "\n",
    "for x in range(prediction_days, len(scaled_data)-future_day):\n",
    "    x_train.append(scaled_data[x-prediction_days:x, 0])\n",
    "    y_train.append(scaled_data[x+future_day, 0])\n",
    "    \n",
    "x_train, y_train = np.array(x_train), np.array(y_train)\n",
    "x_train = np.reshape(x_train, (x_train.shape[0], x_train.shape[1], 1))"
   ]
  },
  {
   "cell_type": "markdown",
   "id": "6b028a76",
   "metadata": {},
   "source": [
    "## Create the neural network"
   ]
  },
  {
   "cell_type": "code",
   "execution_count": 10,
   "id": "d48ecc9c",
   "metadata": {},
   "outputs": [
    {
     "name": "stdout",
     "output_type": "stream",
     "text": [
      "Epoch 1/25\n",
      "72/72 [==============================] - 7s 43ms/step - loss: 0.0141\n",
      "Epoch 2/25\n",
      "72/72 [==============================] - 3s 41ms/step - loss: 0.0084\n",
      "Epoch 3/25\n",
      "72/72 [==============================] - 3s 42ms/step - loss: 0.0086\n",
      "Epoch 4/25\n",
      "72/72 [==============================] - 3s 42ms/step - loss: 0.0075\n",
      "Epoch 5/25\n",
      "72/72 [==============================] - 3s 43ms/step - loss: 0.0071\n",
      "Epoch 6/25\n",
      "72/72 [==============================] - 3s 42ms/step - loss: 0.0067\n",
      "Epoch 7/25\n",
      "72/72 [==============================] - 3s 42ms/step - loss: 0.0064\n",
      "Epoch 8/25\n",
      "72/72 [==============================] - 3s 42ms/step - loss: 0.0063\n",
      "Epoch 9/25\n",
      "72/72 [==============================] - 3s 42ms/step - loss: 0.0066\n",
      "Epoch 10/25\n",
      "72/72 [==============================] - 3s 43ms/step - loss: 0.0063\n",
      "Epoch 11/25\n",
      "72/72 [==============================] - 3s 42ms/step - loss: 0.0061\n",
      "Epoch 12/25\n",
      "72/72 [==============================] - 3s 42ms/step - loss: 0.0065\n",
      "Epoch 13/25\n",
      "72/72 [==============================] - 3s 46ms/step - loss: 0.0058\n",
      "Epoch 14/25\n",
      "72/72 [==============================] - 4s 52ms/step - loss: 0.0057\n",
      "Epoch 15/25\n",
      "72/72 [==============================] - 4s 54ms/step - loss: 0.0060\n",
      "Epoch 16/25\n",
      "72/72 [==============================] - 4s 53ms/step - loss: 0.0057\n",
      "Epoch 17/25\n",
      "72/72 [==============================] - 4s 52ms/step - loss: 0.0055\n",
      "Epoch 18/25\n",
      "72/72 [==============================] - 4s 53ms/step - loss: 0.0055\n",
      "Epoch 19/25\n",
      "72/72 [==============================] - 4s 51ms/step - loss: 0.0054\n",
      "Epoch 20/25\n",
      "72/72 [==============================] - 3s 46ms/step - loss: 0.0052\n",
      "Epoch 21/25\n",
      "72/72 [==============================] - 3s 46ms/step - loss: 0.0058\n",
      "Epoch 22/25\n",
      "72/72 [==============================] - 3s 45ms/step - loss: 0.0056\n",
      "Epoch 23/25\n",
      "72/72 [==============================] - 3s 45ms/step - loss: 0.0052\n",
      "Epoch 24/25\n",
      "72/72 [==============================] - 3s 48ms/step - loss: 0.0051\n",
      "Epoch 25/25\n",
      "72/72 [==============================] - 3s 46ms/step - loss: 0.0053\n"
     ]
    },
    {
     "data": {
      "text/plain": [
       "<keras.callbacks.History at 0x1a0dfc15310>"
      ]
     },
     "execution_count": 10,
     "metadata": {},
     "output_type": "execute_result"
    }
   ],
   "source": [
    "model = Sequential()\n",
    "\n",
    "model.add(LSTM(units=50, return_sequences = True, input_shape=(x_train.shape[1], 1)))\n",
    "model.add(Dropout(0.2))\n",
    "model.add(LSTM(units = 50, return_sequences = True))\n",
    "model.add(Dropout(0.2))\n",
    "model.add(LSTM(units = 50))\n",
    "model.add(Dropout(0.2))\n",
    "model.add(Dense(units = 1))\n",
    "\n",
    "model.compile(optimizer = 'adam', loss = 'mean_squared_error')\n",
    "model.fit(x_train, y_train, epochs = 25, batch_size = 32)"
   ]
  },
  {
   "cell_type": "markdown",
   "id": "2fe14d85",
   "metadata": {},
   "source": [
    "## Testing the Model"
   ]
  },
  {
   "cell_type": "code",
   "execution_count": 11,
   "id": "883db4ad",
   "metadata": {},
   "outputs": [],
   "source": [
    "test_start = dt.datetime(2020,1,1)\n",
    "test_end = dt.datetime.now()\n",
    "\n",
    "test_data = web.DataReader(f'{crypto_currency}-{againts_currency}', 'yahoo', test_start, test_end)\n",
    "actual_prices = test_data['Close'].values\n",
    "\n",
    "total_dataset = pd.concat((data['Close'], test_data['Close']), axis=0)\n",
    "\n",
    "model_inputs = total_dataset[len(total_dataset) - len(test_data) - prediction_days:].values\n",
    "model_inputs = model_inputs.reshape(-1,1)\n",
    "model_inputs = scaler.fit_transform(model_inputs)\n",
    "\n",
    "x_test = []\n",
    "\n",
    "for x in range(prediction_days, len(model_inputs)):\n",
    "    x_test.append(model_inputs[x-prediction_days:x, 0])\n",
    "    \n",
    "x_test = np.array(x_test)\n",
    "x_test = np.reshape(x_test, (x_test.shape[0], x_test.shape[1],1))"
   ]
  },
  {
   "cell_type": "code",
   "execution_count": 12,
   "id": "d856e069",
   "metadata": {},
   "outputs": [],
   "source": [
    "prediction_prices = model.predict(x_test)\n",
    "prediction_prices = scaler.inverse_transform(prediction_prices)"
   ]
  },
  {
   "cell_type": "code",
   "execution_count": 13,
   "id": "b4205bd2",
   "metadata": {},
   "outputs": [
    {
     "data": {
      "image/png": "[encoded data removed]",
      "text/plain": [
       "<Figure size 432x288 with 1 Axes>"
      ]
     },
     "metadata": {
      "needs_background": "light"
     },
     "output_type": "display_data"
    }
   ],
   "source": [
    "import matplotlib.pyplot as plt\n",
    "\n",
    "plt.plot(actual_prices, color='black', label='Actual Prices')\n",
    "plt.plot(prediction_prices, color='green', label='Predicted Prices')\n",
    "plt.title(f'{crypto_currency} price prediction')\n",
    "plt.xlabel('Time')\n",
    "plt.ylabel('Price')\n",
    "plt.legend(loc='upper left')\n",
    "plt.show()"
   ]
  },
  {
   "cell_type": "markdown",
   "id": "1bfa5dde",
   "metadata": {},
   "source": [
    "## Predict next 30 days"
   ]
  },
  {
   "cell_type": "code",
   "execution_count": 14,
   "id": "42ee601c",
   "metadata": {},
   "outputs": [
    {
     "name": "stdout",
     "output_type": "stream",
     "text": [
      "\n"
     ]
    }
   ],
   "source": [
    "real_data = [model_inputs[len(model_inputs) + 1 - prediction_days:len(model_inputs) + 1, 0]]\n",
    "real_data = np.array(real_data)\n",
    "real_data = np.reshape(x_test, (x_test.shape[0], x_test.shape[1], 1))\n",
    "\n",
    "prediction = model.predict(real_data)\n",
    "prediction = scaler.inverse_transform(prediction)\n",
    "\n",
    "print()"
   ]
  },
  {
   "cell_type": "code",
   "execution_count": null,
   "id": "f9989207",
   "metadata": {},
   "outputs": [],
   "source": []
  }
 ],
 "metadata": {
  "kernelspec": {
   "display_name": "Python 3 (ipykernel)",
   "language": "python",
   "name": "python3"
  },
  "language_info": {
   "codemirror_mode": {
    "name": "ipython",
    "version": 3
   },
   "file_extension": ".py",
   "mimetype": "text/x-python",
   "name": "python",
   "nbconvert_exporter": "python",
   "pygments_lexer": "ipython3",
   "version": "3.8.8"
  }
 },
 "nbformat": 4,
 "nbformat_minor": 5
}
